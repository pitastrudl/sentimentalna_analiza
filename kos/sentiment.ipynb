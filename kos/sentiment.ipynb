{
  "cells": [
    {
      "metadata": {},
      "cell_type": "markdown",
      "source": "# Imports"
    },
    {
      "metadata": {
        "trusted": true
      },
      "cell_type": "code",
      "source": "from sklearn.feature_extraction.text import CountVectorizer\nfrom sklearn.naive_bayes import BernoulliNB\nfrom sklearn.metrics import confusion_matrix\n\nimport numpy as np\nimport itertools\nimport matplotlib.pyplot as plt\nimport pandas",
      "execution_count": 1,
      "outputs": []
    },
    {
      "metadata": {},
      "cell_type": "markdown",
      "source": "## Open Datasets"
    },
    {
      "metadata": {
        "trusted": true
      },
      "cell_type": "code",
      "source": "def get_all_data():\n    root = \"Data/\"\n\n    with open(root + \"imdb_labelled.txt\", \"r\") as text_file:\n        data = text_file.read().split('\\n')\n         \n    with open(root + \"amazon_cells_labelled.txt\", \"r\") as text_file:\n        data += text_file.read().split('\\n')\n\n    with open(root + \"yelp_labelled.txt\", \"r\") as text_file:\n        data += text_file.read().split('\\n')\n\n    return data\n\nvalues = get_all_data()\nprint(values[0])\nprint(values[10])\nprint(values[100])\nprint(values[1000])",
      "execution_count": 2,
      "outputs": [
        {
          "output_type": "stream",
          "text": "A very, very, very slow-moving, aimless movie about a distressed, drifting young man.  \t0\nAnd those baby owls were adorable.  \t1\nI don't think you will be disappointed.  \t1\nSo there is no way for me to plug it in here in the US unless I go by a converter.\t0\n",
          "name": "stdout"
        }
      ]
    },
    {
      "metadata": {},
      "cell_type": "markdown",
      "source": "## Preprocessing of data"
    },
    {
      "metadata": {
        "trusted": true
      },
      "cell_type": "code",
      "source": "def preprocessing_data(data):\n    processing_data = []\n    for single_data in data:\n        if len(single_data.split(\"\\t\")) == 2 and single_data.split(\"\\t\")[1] != \"\":\n            processing_data.append(single_data.split(\"\\t\"))\n\n    return processing_data\n\nall_data = get_all_data()\nvalues = preprocessing_data(all_data)\nprint(values[0])\nprint(values[10])",
      "execution_count": 3,
      "outputs": [
        {
          "output_type": "stream",
          "text": "['A very, very, very slow-moving, aimless movie about a distressed, drifting young man.  ', '0']\n['And those baby owls were adorable.  ', '1']\n",
          "name": "stdout"
        }
      ]
    },
    {
      "metadata": {},
      "cell_type": "markdown",
      "source": "## Split Data"
    },
    {
      "metadata": {
        "trusted": true
      },
      "cell_type": "code",
      "source": "def split_data(data):\n    total = len(data)\n    training_ratio = 0.75\n    training_data = []\n    evaluation_data = []\n\n    for indice in range(0, total):\n        if indice < total * training_ratio:\n            training_data.append(data[indice])\n        else:\n            evaluation_data.append(data[indice])\n\n    return training_data, evaluation_data",
      "execution_count": 4,
      "outputs": []
    },
    {
      "metadata": {},
      "cell_type": "markdown",
      "source": "## Preprocessing Step"
    },
    {
      "metadata": {
        "trusted": true
      },
      "cell_type": "code",
      "source": "def preprocessing_step():\n    data = get_all_data()\n    processing_data = preprocessing_data(data)\n\n    return split_data(processing_data)",
      "execution_count": 5,
      "outputs": []
    },
    {
      "metadata": {},
      "cell_type": "markdown",
      "source": "## Training Step"
    },
    {
      "metadata": {
        "trusted": true
      },
      "cell_type": "code",
      "source": "def training_step(data, vectorizer):\n    training_text = [data[0] for data in data]\n    training_result = [data[1] for data in data]\n\n    training_text = vectorizer.fit_transform(training_text)\n\n    return BernoulliNB().fit(training_text, training_result)",
      "execution_count": 6,
      "outputs": []
    },
    {
      "metadata": {},
      "cell_type": "markdown",
      "source": "## Score Step"
    },
    {
      "metadata": {
        "trusted": true
      },
      "cell_type": "code",
      "source": "training_data, evaluation_data = preprocessing_step()\nvectorizer = CountVectorizer(binary = 'true')\nclassifier = training_step(training_data, vectorizer)\nresult = classifier.predict(vectorizer.transform([\"I love this movie!\"]))\n\nresult[0]",
      "execution_count": 7,
      "outputs": [
        {
          "output_type": "execute_result",
          "execution_count": 7,
          "data": {
            "text/plain": "'1'"
          },
          "metadata": {}
        }
      ]
    },
    {
      "metadata": {
        "trusted": true
      },
      "cell_type": "code",
      "source": "def analyse_text(classifier, vectorizer, text):\n    return text, classifier.predict(vectorizer.transform([text]))\n\nnew_result = analyse_text(classifier, vectorizer, \"Best product ever\")\nnew_result",
      "execution_count": 8,
      "outputs": [
        {
          "output_type": "execute_result",
          "execution_count": 8,
          "data": {
            "text/plain": "('Best product ever', array(['1'], dtype='<U1'))"
          },
          "metadata": {}
        }
      ]
    },
    {
      "metadata": {
        "trusted": true
      },
      "cell_type": "code",
      "source": "def print_result(result):\n    text, analysis_result = result\n    print_text = \"Positive\" if analysis_result[0] == '1' else \"Negative\"\n    print(text, \":\", print_text)\n    \nprint_result(new_result)",
      "execution_count": 9,
      "outputs": [
        {
          "output_type": "stream",
          "text": "Best product ever : Positive\n",
          "name": "stdout"
        }
      ]
    },
    {
      "metadata": {},
      "cell_type": "markdown",
      "source": "### More examples"
    },
    {
      "metadata": {
        "trusted": true,
        "scrolled": true
      },
      "cell_type": "code",
      "source": "print_result( analyse_text(classifier, vectorizer,\"this is the best movie\"))\nprint_result( analyse_text(classifier, vectorizer,\"this is the worst movie\"))\nprint_result( analyse_text(classifier, vectorizer,\"awesome!\"))\nprint_result( analyse_text(classifier, vectorizer,\"10/10\"))\nprint_result( analyse_text(classifier, vectorizer,\"so bad\"))\nprint_result( analyse_text(classifier, vectorizer,\"nice\"))",
      "execution_count": 10,
      "outputs": [
        {
          "output_type": "stream",
          "text": "this is the best movie : Positive\nthis is the worst movie : Negative\nawesome! : Positive\n10/10 : Positive\nso bad : Negative\nnice : Positive\n",
          "name": "stdout"
        }
      ]
    },
    {
      "metadata": {},
      "cell_type": "markdown",
      "source": "## Evaluation Step"
    },
    {
      "metadata": {
        "trusted": true
      },
      "cell_type": "code",
      "source": "def simple_evaluation(evaluation_data):\n    evaluation_text     = [evaluation_data[0] for evaluation_data in evaluation_data]\n    evaluation_result   = [evaluation_data[1] for evaluation_data in evaluation_data]\n\n    total = len(evaluation_text)\n    corrects = 0\n    for index in range(0, total):\n        analysis_result = analyse_text(classifier, vectorizer, evaluation_text[index])\n        text, result = analysis_result\n        corrects += 1 if result[0] == evaluation_result[index] else 0\n\n    return corrects * 100 / total\n\nsimple_evaluation(evaluation_data)",
      "execution_count": 11,
      "outputs": [
        {
          "output_type": "execute_result",
          "execution_count": 11,
          "data": {
            "text/plain": "82.0"
          },
          "metadata": {}
        }
      ]
    },
    {
      "metadata": {},
      "cell_type": "markdown",
      "source": "### Confusion Matrix"
    },
    {
      "metadata": {
        "trusted": true
      },
      "cell_type": "code",
      "source": "def create_confusion_matrix(evaluation_data):\n    evaluation_text     = [evaluation_data[0] for evaluation_data in evaluation_data]\n    actual_result       = [evaluation_data[1] for evaluation_data in evaluation_data]\n    prediction_result   = []\n    for text in evaluation_text:\n        analysis_result = analyse_text(classifier, vectorizer, text)\n        prediction_result.append(analysis_result[1][0])\n    \n    matrix = confusion_matrix(actual_result, prediction_result)\n    return matrix\n    \nconfusion_matrix_result = create_confusion_matrix(evaluation_data)",
      "execution_count": 12,
      "outputs": []
    },
    {
      "metadata": {},
      "cell_type": "markdown",
      "source": "## Data Frame"
    },
    {
      "metadata": {
        "trusted": true
      },
      "cell_type": "code",
      "source": "pandas.DataFrame(confusion_matrix_result, columns=[\"Negatives\", \"Positives\"],index=[\"Negatives\", \"Positives\"])",
      "execution_count": 13,
      "outputs": [
        {
          "output_type": "execute_result",
          "execution_count": 13,
          "data": {
            "text/html": "<div>\n<style scoped>\n    .dataframe tbody tr th:only-of-type {\n        vertical-align: middle;\n    }\n\n    .dataframe tbody tr th {\n        vertical-align: top;\n    }\n\n    .dataframe thead th {\n        text-align: right;\n    }\n</style>\n<table border=\"1\" class=\"dataframe\">\n  <thead>\n    <tr style=\"text-align: right;\">\n      <th></th>\n      <th>Negatives</th>\n      <th>Positives</th>\n    </tr>\n  </thead>\n  <tbody>\n    <tr>\n      <th>Negatives</th>\n      <td>322</td>\n      <td>64</td>\n    </tr>\n    <tr>\n      <th>Positives</th>\n      <td>71</td>\n      <td>293</td>\n    </tr>\n  </tbody>\n</table>\n</div>",
            "text/plain": "           Negatives  Positives\nNegatives        322         64\nPositives         71        293"
          },
          "metadata": {}
        }
      ]
    },
    {
      "metadata": {},
      "cell_type": "markdown",
      "source": "### Plot Confusion Matrix"
    },
    {
      "metadata": {
        "trusted": true
      },
      "cell_type": "code",
      "source": "classes = [\"Negatives\", \"Positives\"]\n\nplt.figure()\nplt.imshow(confusion_matrix_result, interpolation='nearest', cmap=plt.cm.Blues)\nplt.title(\"Confusion Matrix - Sentiment Analysis\")\nplt.colorbar()\ntick_marks = np.arange(len(classes))\nplt.xticks(tick_marks, classes, rotation=45)\nplt.yticks(tick_marks, classes)\n\ntext_format = 'd'\nthresh = confusion_matrix_result.max() / 2.\nfor row, column in itertools.product(range(confusion_matrix_result.shape[0]), range(confusion_matrix_result.shape[1])):\n    plt.text(column, row, format(confusion_matrix_result[row, column], text_format),\n             horizontalalignment=\"center\",\n             color=\"white\" if confusion_matrix_result[row, column] > thresh else \"black\")\n\nplt.ylabel('True label')\nplt.xlabel('Predicted label')\nplt.tight_layout()\n\nplt.show()",
      "execution_count": 14,
      "outputs": [
        {
          "output_type": "display_data",
          "data": {
            "image/png": "[encoded data removed]",
            "text/plain": "<Figure size 432x288 with 2 Axes>"
          },
          "metadata": {
            "needs_background": "light"
          }
        }
      ]
    },
    {
      "metadata": {
        "trusted": true
      },
      "cell_type": "code",
      "source": "true_negatives = confusion_matrix_result[0][0]\nfalse_negatives = confusion_matrix_result[0][1]\nfalse_positives = confusion_matrix_result[1][0]\ntrue_positives = confusion_matrix_result[1][1]\n\naccuracy = (true_positives + true_negatives) / (true_positives + true_negatives + false_positives + false_negatives)\nprecision = true_positives / (true_positives + false_positives)\nrecall = true_positives / (true_positives + false_negatives)\nf1_score = 2*(recall * precision) / (recall + precision)\n\nprint('Accuracy:',accuracy)\nprint('Precision:',precision)\nprint('Recall:',recall)\nprint('F1 Score:',f1_score)",
      "execution_count": 29,
      "outputs": [
        {
          "output_type": "stream",
          "text": "Accuracy: 0.82\nPrecision: 0.804945054945055\nRecall: 0.8207282913165266\nF1 Score: 0.812760055478502\n",
          "name": "stdout"
        }
      ]
    },
    {
      "metadata": {
        "trusted": true
      },
      "cell_type": "code",
      "source": "",
      "execution_count": null,
      "outputs": []
    }
  ],
  "metadata": {
    "kernelspec": {
      "name": "python36",
      "display_name": "Python 3.6",
      "language": "python"
    },
    "language_info": {
      "mimetype": "text/x-python",
      "nbconvert_exporter": "python",
      "name": "python",
      "pygments_lexer": "ipython3",
      "version": "3.6.6",
      "file_extension": ".py",
      "codemirror_mode": {
        "version": 3,
        "name": "ipython"
      }
    },
    "widgets": {
      "application/vnd.jupyter.widget-state+json": {
        "version_major": 2,
        "version_minor": 0,
        "state": {}
      }
    }
  },
  "nbformat": 4,
  "nbformat_minor": 2
}